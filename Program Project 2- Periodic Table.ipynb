{
 "cells": [
  {
   "cell_type": "code",
   "execution_count": 36,
   "id": "cf561710",
   "metadata": {
    "scrolled": true
   },
   "outputs": [
    {
     "name": "stdout",
     "output_type": "stream",
     "text": [
      "+----+----+----+----+----+----+----+----+----+----+----+----+----+----+----+----+----+----+\n",
      "| 1  | 2  | 3  | 4  | 5  | 6  | 7  | 8  | 9  | 10 | 11 | 12 | 13 | 14 | 15 | 16 | 17 | 18 |\n",
      "+----+----+----+----+----+----+----+----+----+----+----+----+----+----+----+----+----+----+\n",
      "| H  |    |    |    |    |    |    |    |    |    |    |    |    |    |    |    |    | He |\n",
      "|    |    |    |    |    |    |    |    |    |    |    |    |    |    |    |    |    |    |\n",
      "| Li | Be |    |    |    |    |    |    |    |    |    |    | B  | C  | N  | O  | F  | Ne |\n",
      "|    |    |    |    |    |    |    |    |    |    |    |    |    |    |    |    |    |    |\n",
      "| Na | Mg |    |    |    |    |    |    |    |    |    |    | Al | Si | P  | S  | Cl | Ar |\n",
      "|    |    |    |    |    |    |    |    |    |    |    |    |    |    |    |    |    |    |\n",
      "| K  | Ca | Sc | Ti | V  | Cr | Mn | Fe | Co | Ni | Cu | Zn | Ga | Ge | As | Se | Br | Kr |\n",
      "|    |    |    |    |    |    |    |    |    |    |    |    |    |    |    |    |    |    |\n",
      "| Rb | Sr | Y  | Zr | Nb | Mo | Tc | Ru | Rh | Pd | Ag | Cd | In | Sn | Sb | Te | I  | Xe |\n",
      "|    |    |    |    |    |    |    |    |    |    |    |    |    |    |    |    |    |    |\n",
      "| Cs | Ba | *  | Hf | Ta | W  | Re | Os | Ir | Pt | Au | Hg | Tl | Pb | Bi | Po | At | Rn |\n",
      "|    |    |    |    |    |    |    |    |    |    |    |    |    |    |    |    |    |    |\n",
      "| Fr | Ra | ** | Rf | Db | Sg | Bh | Hs | Mt | Ds | Rg | Cn | Nh | Fl | Mc | Lv | Ts | Og |\n",
      "+----+----+----+----+----+----+----+----+----+----+----+----+----+----+----+----+----+----+\n",
      "Enter an element symbol to find the element name (Enter DONE to stop): At\n",
      "Astatine\n",
      "Enter an element symbol to find the element name (Enter DONE to stop): H\n",
      "Hydrogen\n",
      "Enter an element symbol to find the element name (Enter DONE to stop): DONE\n",
      "Thanks for interacting with my table\n"
     ]
    }
   ],
   "source": [
    "from prettytable import PrettyTable\n",
    "    \n",
    "y= PrettyTable()\n",
    "\n",
    "y.field_names= ['1','2','3','4','5','6','7','8','9','10','11','12','13','14','15','16','17','18']\n",
    "\n",
    "y.add_row(['H', '', '', '', '', '','','','','','','','','','','','','He'])\n",
    "y.add_row(['', '', '', '', '', '','','','','','','','','','','','',''])\n",
    "y.add_row(['Li', 'Be', '', '', '', '','','','','','','','B','C','N','O','F','Ne'])\n",
    "y.add_row(['', '', '', '', '', '','','','','','','','','','','','',''])\n",
    "y.add_row(['Na', 'Mg', '', '', '', '','','','','','','','Al','Si','P','S','Cl','Ar'])\n",
    "y.add_row(['', '', '', '', '', '','','','','','','','','','','','',''])\n",
    "y.add_row(['K', 'Ca', 'Sc', 'Ti', 'V', 'Cr','Mn','Fe','Co','Ni','Cu','Zn','Ga','Ge','As','Se','Br','Kr'])\n",
    "y.add_row(['', '', '', '', '', '','','','','','','','','','','','',''])\n",
    "y.add_row(['Rb', 'Sr', 'Y', 'Zr', 'Nb', 'Mo','Tc','Ru','Rh','Pd','Ag','Cd','In','Sn','Sb','Te','I','Xe'])\n",
    "y.add_row(['', '', '', '', '', '','','','','','','','','','','','',''])\n",
    "y.add_row(['Cs', 'Ba', '*', 'Hf', 'Ta', 'W','Re','Os','Ir','Pt','Au','Hg','Tl','Pb','Bi','Po','At','Rn'])\n",
    "y.add_row(['', '', '', '', '', '','','','','','','','','','','','',''])\n",
    "y.add_row(['Fr', 'Ra', '**', 'Rf', 'Db', 'Sg', 'Bh','Hs','Mt','Ds','Rg','Cn','Nh','Fl','Mc','Lv','Ts','Og'])\n",
    "\n",
    "print(y)\n",
    "\n",
    "element_name={'H':'Hydrogen', 'He':'Helium', 'Li':'Lithium', 'Be':'Beryillum', 'B':'Boron', 'C':'Carbon', 'N':'Nitrogen',\n",
    "             'O':'Oxygen','F':'Fluorine','Ne':'Neon','Na':'Sodium','Mg':'Magnesium','Al':'Aluminum','Si':'Silicon',\n",
    "             'P':'Phosphorus','S':'Sulfur','Cl':'Chlorine','Ar':'Argon','K':'Potassium','Ca':'Calcium','Sc':'Scandium',\n",
    "             'Ti':'Titanium','V':'Vandium','Cr':'Chromium','Mn':'Manganese','Fe':'Iron','Co':'Cobalt','Ni':'Nickel',\n",
    "             'Cu':'Copper','Zn':'Zinc','Ga':'Gallium','Ge':'Germanium','As':'Arsenic','Se':'Selenium','Br':'Bromine',\n",
    "             'Kr':'Krypton','Rb':'Rubidium','Sr':'Strontium','Y':'Yttrium','Zr':'Zirconium','Nb':'Niobium',\n",
    "             'Mo':'Molybdenum','Tc':'Technetium','Ru':'Ruthenium','Rh':'Rhodium','Pd':'Palladium','Ag':'Silver','Cd':'Cadmium',\n",
    "             'In':'Indium','Sn':'Tin','Sb':'Antimony','Te':'Tellurium','I':'Iodine','Xe':'Xenon','Cs':'Cesium','Ba':'Barium',\n",
    "             'Hf':'Hafnium','Ta':'Tantalum','W':'Tungsten','Re':'Rhenium','Os':'Osmium','Ir':'Iridium','Pt':'Platium','Au':'Gold',\n",
    "             'Hg':'Mercury','Tl':'Thallium','Pb':'Lead','Bi':'Bismuth','Po':'Polonium','At':'Astatine','Rn':'Radon','Fr':'Francium',\n",
    "             'Ra':'Radium','Rf':'Rutherfordium','Db':'Dubnium','Sg':'Seaborgium','Bh':'Bohrium','Hs':'Hassium','Mt':'Meitnerium',\n",
    "             'Ds':'Darmstadtium','Rg':'Roentgenium','Cn':'Copernicium','Nh':'Nihonium','Fl':'Flerovium','Mc':'Moscovium',\n",
    "             'Lv':'Livermorium','Ts':'Tennessine','Og':'Oganesson'}\n",
    "\n",
    "el=input('Enter an element symbol to find the element name (Enter DONE to stop): ')\n",
    "\n",
    "while True:\n",
    "    if el!='DONE':\n",
    "        print(element_name[el])\n",
    "        el=input('Enter an element symbol to find the element name (Enter DONE to stop): ')\n",
    "    else:\n",
    "        print('Thanks for interacting with my table')\n",
    "        break"
   ]
  }
 ],
 "metadata": {
  "kernelspec": {
   "display_name": "Python 3",
   "language": "python",
   "name": "python3"
  },
  "language_info": {
   "codemirror_mode": {
    "name": "ipython",
    "version": 3
   },
   "file_extension": ".py",
   "mimetype": "text/x-python",
   "name": "python",
   "nbconvert_exporter": "python",
   "pygments_lexer": "ipython3",
   "version": "3.8.8"
  }
 },
 "nbformat": 4,
 "nbformat_minor": 5
}
